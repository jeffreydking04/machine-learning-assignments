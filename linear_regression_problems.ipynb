{
 "cells": [
  {
   "cell_type": "markdown",
   "id": "fitting-aggregate",
   "metadata": {},
   "source": [
    "# Problem 1"
   ]
  },
  {
   "cell_type": "markdown",
   "id": "amended-forwarding",
   "metadata": {},
   "source": [
    "$ L(\\theta) = \\frac{1}{2n} \\sum_{i = 1}^n (\\theta^Tx_i - y_i)^2$"
   ]
  },
  {
   "cell_type": "markdown",
   "id": "angry-health",
   "metadata": {},
   "source": [
    "If we start with the line equation $ y = \\theta_1 + \\theta_2x + \\varepsilon $, we want to find the values of $ \\theta_1 $ and $ \\theta_2 $ that minimize $ \\varepsilon $. "
   ]
  },
  {
   "cell_type": "markdown",
   "id": "reserved-revelation",
   "metadata": {},
   "source": [
    "Thus $ \\varepsilon = \\theta_1 + \\theta_2x - y  $"
   ]
  },
  {
   "cell_type": "markdown",
   "id": "continuous-listening",
   "metadata": {},
   "source": [
    "We want $ \\frac{\\sum_{i=1}^n ( \\theta_1 + \\theta_2x_i - y_i)^2}{n} $ where each $ x_i, y_i $ represents the x and y values of our data.  This is the average of the squared error."
   ]
  },
  {
   "cell_type": "markdown",
   "id": "unable-aerospace",
   "metadata": {},
   "source": [
    "$ \\sum_{i=1}^n ( \\theta_1 + \\theta_2x_i + y_i)^2 $ can be rewritten as:"
   ]
  },
  {
   "cell_type": "markdown",
   "id": "champion-statement",
   "metadata": {},
   "source": [
    "So grouping all of our data into matrices:"
   ]
  },
  {
   "cell_type": "markdown",
   "id": "nervous-strengthening",
   "metadata": {},
   "source": [
    "All $ x_i = \\begin{bmatrix} x_1 \\\\ x_2 \\\\ \\vdots \\\\ x_n \\end{bmatrix} $ "
   ]
  },
  {
   "cell_type": "markdown",
   "id": "august-driver",
   "metadata": {},
   "source": [
    "All $ y_i = Y = \\begin{bmatrix} y_1 \\\\ y_2 \\\\ \\vdots \\\\ y_n \\end{bmatrix} $ "
   ]
  },
  {
   "cell_type": "markdown",
   "id": "british-battery",
   "metadata": {},
   "source": [
    "Prepending a column of ones to $ x_i $ matrix gives $ X = \\begin{bmatrix} 1 & x_1 \\\\ 1 &x_2 \\\\ \\vdots & \\vdots \\\\ 1 & x_n \\end{bmatrix} $"
   ]
  },
  {
   "cell_type": "markdown",
   "id": "competent-mortgage",
   "metadata": {},
   "source": [
    "\n",
    "Let $ \\theta = \\begin{bmatrix} \\theta_1 \\\\ \\theta_2 \\end{bmatrix} $"
   ]
  },
  {
   "cell_type": "markdown",
   "id": "baking-treasurer",
   "metadata": {},
   "source": [
    "$ \\theta^T = \\begin{bmatrix} \\theta_1 & \\theta_2 \\end{bmatrix} $"
   ]
  },
  {
   "cell_type": "markdown",
   "id": "electronic-emphasis",
   "metadata": {},
   "source": [
    "$ \\begin{bmatrix} 1 & x_1 \\\\ 1 &x_2 \\\\ \\vdots & \\vdots \\\\ 1 & x_n \\end{bmatrix} \\begin{bmatrix} \\theta_1 \\\\ \\theta_2 \\end{bmatrix}  - \\begin{bmatrix} y_1 \\\\ y_2 \\\\ \\vdots \\\\ y_n \\end{bmatrix} = \\begin{bmatrix} \\theta_1 + \\theta_2x_1 - y_1 \\\\ \\theta_1 + \\theta_2x_1 - y_1 \\\\ \\vdots \\\\ \\theta_1 + \\theta_2x_n - y_n \\end{bmatrix} $ "
   ]
  },
  {
   "cell_type": "markdown",
   "id": "vulnerable-routine",
   "metadata": {},
   "source": [
    "Which is a matrix representing $ \\varepsilon_i $"
   ]
  },
  {
   "cell_type": "markdown",
   "id": "crucial-choice",
   "metadata": {},
   "source": [
    "$ \\sum_{i=1}^n ( \\theta_1 + \\theta_2x_i - y_i)^2 = (X\\theta - Y)^2 $"
   ]
  },
  {
   "cell_type": "markdown",
   "id": "hawaiian-stranger",
   "metadata": {},
   "source": [
    "$ (X\\theta - Y)^2 = (X\\theta - Y)^T(X\\theta - Y) = (\\theta^TX^T - Y^T)(X\\theta - Y) = \\theta^TX^TX\\theta - \\theta^TX^TY - Y^TX\\theta + Y^TY $"
   ]
  },
  {
   "cell_type": "markdown",
   "id": "corporate-globe",
   "metadata": {},
   "source": [
    "$ \\frac{1}{n} (\\theta^TX^TX\\theta - \\theta^TX^TY - Y^TX\\theta + Y^TY) $"
   ]
  },
  {
   "cell_type": "markdown",
   "id": "bronze-contract",
   "metadata": {},
   "source": [
    "A $ 1 x 1 $ matrix equals its transpose so $ Y^TX\\theta = (Y^TX\\theta)^T= \\theta^TX^TY $"
   ]
  },
  {
   "cell_type": "markdown",
   "id": "durable-navigator",
   "metadata": {},
   "source": [
    "So $ \\frac{1}{n} (\\theta^TX^TX\\theta - \\theta^TX^TY - Y^TX\\theta + Y^TY) =  \\frac{1}{n} (\\theta^TX^TX\\theta - 2\\theta^TX^TY + Y^TY)$"
   ]
  },
  {
   "cell_type": "markdown",
   "id": "going-algorithm",
   "metadata": {},
   "source": [
    "Taking the partial with respect to $ \\theta $ gives:"
   ]
  },
  {
   "cell_type": "markdown",
   "id": "continuous-escape",
   "metadata": {},
   "source": [
    " $ \\frac{1}{n} (2X^TX\\theta - 2X^TY + 0) = \\frac{2}{n} (X^TX\\theta - X^TY) $"
   ]
  },
  {
   "cell_type": "markdown",
   "id": "decimal-error",
   "metadata": {},
   "source": [
    "Setting equal to zero and solving (which is why dividing the MSE by 2 at the start doesn't change anything):"
   ]
  },
  {
   "cell_type": "markdown",
   "id": "desperate-constitutional",
   "metadata": {},
   "source": [
    "$ 0 = \\frac{2}{n} (X^TX\\theta - X^TY) $"
   ]
  },
  {
   "cell_type": "markdown",
   "id": "personalized-remainder",
   "metadata": {},
   "source": [
    "$ X^TX\\theta = X^TY $"
   ]
  },
  {
   "cell_type": "markdown",
   "id": "humanitarian-power",
   "metadata": {},
   "source": [
    "$ \\theta = (X^TX)^{-1}X^TY $"
   ]
  },
  {
   "cell_type": "code",
   "execution_count": 66,
   "id": "early-buying",
   "metadata": {},
   "outputs": [
    {
     "data": {
      "image/png": "[encoded data removed]",
      "text/plain": [
       "<Figure size 432x288 with 1 Axes>"
      ]
     },
     "metadata": {
      "needs_background": "light"
     },
     "output_type": "display_data"
    }
   ],
   "source": [
    "def f(x): return 5*x + 2 + np.random.normal(1,1, len(x))\n",
    "x = np.linspace(-1, 1)\n",
    "y = f(x)\n",
    "y = y.reshape(-1, 1)\n",
    "plt.scatter(x, y)\n",
    "X = np.c_[np.ones((len(x), 1)), x]"
   ]
  },
  {
   "cell_type": "code",
   "execution_count": 70,
   "id": "imperial-maine",
   "metadata": {},
   "outputs": [],
   "source": [
    "def grad_desc(eta, iters):\n",
    "    theta = np.random.normal(0, 1, (2, 1))\n",
    "    for i in range(iters):\n",
    "        grads = 2/len(x) * X.T @ (X @ theta - y)\n",
    "        theta = theta - eta * grads\n",
    "    return theta"
   ]
  },
  {
   "cell_type": "code",
   "execution_count": 78,
   "id": "unavailable-western",
   "metadata": {},
   "outputs": [
    {
     "data": {
      "text/plain": [
       "array([[2.93526132],\n",
       "       [5.41200578]])"
      ]
     },
     "execution_count": 78,
     "metadata": {},
     "output_type": "execute_result"
    }
   ],
   "source": [
    "grad_desc(0.1, 100)"
   ]
  },
  {
   "cell_type": "code",
   "execution_count": 79,
   "id": "humanitarian-storage",
   "metadata": {},
   "outputs": [
    {
     "data": {
      "text/plain": [
       "array([[2.93526132],\n",
       "       [5.41610105]])"
      ]
     },
     "execution_count": 79,
     "metadata": {},
     "output_type": "execute_result"
    }
   ],
   "source": [
    "grad_desc(0.1, 1000)"
   ]
  },
  {
   "cell_type": "code",
   "execution_count": 82,
   "id": "owned-floating",
   "metadata": {},
   "outputs": [
    {
     "data": {
      "text/plain": [
       "array([[2.93526132],\n",
       "       [5.41610105]])"
      ]
     },
     "execution_count": 82,
     "metadata": {},
     "output_type": "execute_result"
    }
   ],
   "source": [
    "grad_desc(0.1, 10000)"
   ]
  },
  {
   "cell_type": "code",
   "execution_count": 83,
   "id": "valuable-hostel",
   "metadata": {},
   "outputs": [
    {
     "data": {
      "text/plain": [
       "array([[2.93526132],\n",
       "       [5.41610105]])"
      ]
     },
     "execution_count": 83,
     "metadata": {},
     "output_type": "execute_result"
    }
   ],
   "source": [
    "grad_desc(0.1, 100000)"
   ]
  },
  {
   "cell_type": "code",
   "execution_count": 140,
   "id": "sexual-sewing",
   "metadata": {},
   "outputs": [],
   "source": [
    "from random import randint\n",
    "def stochastic_grad_desc(eta, iters):\n",
    "    theta = np.random.normal(0, 1, (2, 1))\n",
    "    for i in range(iters):\n",
    "        random_index = randint(1,len(x) - 1)\n",
    "        x_value = x[random_index]\n",
    "        y_value = y[random_index]\n",
    "        theta_1 = theta[0][0]\n",
    "        theta_2 = theta[1][0]\n",
    "        grad_1 = 2 * theta_1 * theta_2 + 2 * theta_2 ** 2 * x_value - 2 * theta_2 * y_value\n",
    "        grad_2 = -2 * (theta_1 + theta_2 * x_value - y_value)\n",
    "        theta[0][0] = theta_1 - eta * grad_1\n",
    "        theta[1][0] = theta_2 - eta * grad_2\n",
    "    print(theta)\n",
    "        "
   ]
  },
  {
   "cell_type": "code",
   "execution_count": 141,
   "id": "wired-public",
   "metadata": {},
   "outputs": [
    {
     "name": "stdout",
     "output_type": "stream",
     "text": [
      "[[-2.40466543]\n",
      " [ 0.98118876]]\n"
     ]
    }
   ],
   "source": [
    "stochastic_grad_desc(.1, 1)"
   ]
  },
  {
   "cell_type": "markdown",
   "id": "enormous-terrorist",
   "metadata": {},
   "source": [
    "Welp, I'm getting errors when I try to run this over many iterations which means I did something wrong and I don't have time to fix it."
   ]
  },
  {
   "cell_type": "code",
   "execution_count": null,
   "id": "premier-qatar",
   "metadata": {},
   "outputs": [],
   "source": []
  }
 ],
 "metadata": {
  "kernelspec": {
   "display_name": "Python 3",
   "language": "python",
   "name": "python3"
  },
  "language_info": {
   "codemirror_mode": {
    "name": "ipython",
    "version": 3
   },
   "file_extension": ".py",
   "mimetype": "text/x-python",
   "name": "python",
   "nbconvert_exporter": "python",
   "pygments_lexer": "ipython3",
   "version": "3.8.5"
  }
 },
 "nbformat": 4,
 "nbformat_minor": 5
}
