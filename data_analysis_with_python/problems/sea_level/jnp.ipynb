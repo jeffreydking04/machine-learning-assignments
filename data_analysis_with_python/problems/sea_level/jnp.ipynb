{
 "metadata": {
  "language_info": {
   "codemirror_mode": {
    "name": "ipython",
    "version": 3
   },
   "file_extension": ".py",
   "mimetype": "text/x-python",
   "name": "python",
   "nbconvert_exporter": "python",
   "pygments_lexer": "ipython3",
   "version": "3.8.5"
  },
  "orig_nbformat": 4,
  "kernelspec": {
   "name": "python3",
   "display_name": "Python 3.8.5 64-bit ('base': conda)"
  },
  "interpreter": {
   "hash": "380ce6376c7fd391ece724eaf59b295bddecdfa033b6187b6b7fff73d860c0ad"
  }
 },
 "nbformat": 4,
 "nbformat_minor": 2,
 "cells": [
  {
   "cell_type": "code",
   "execution_count": 38,
   "metadata": {},
   "outputs": [],
   "source": [
    "import pandas as pd\n",
    "import numpy as np\n",
    "import matplotlib.pyplot as plt\n",
    "from scipy.stats import linregress\n",
    "\n",
    "def draw_plot():\n",
    "    # Read data from file\n",
    "    df = pd.read_csv('epa_sea_level.csv')\n",
    "    x = df['Year']\n",
    "    y = df['CSIRO Adjusted Sea Level']\n",
    "    # Create scatter plot\n",
    "    fig, ax = plt.subplots(1,1, figsize=(25,10))\n",
    "    ax.scatter(x, y)\n",
    "\n",
    "    # Create first line of best fit\n",
    "    slope, intercept, n, m, o = linregress(x, y)\n",
    "    line_x = np.arange(1880, 2051)\n",
    "    line_y = slope * line_x + intercept\n",
    "    ax.plot(line_x, line_y)\n",
    "\n",
    "    # Create second line of best fit\n",
    "    df_2 = df[df['Year'] >= 2000]\n",
    "    x_2 = df_2['Year']\n",
    "    y_2 = df_2['CSIRO Adjusted Sea Level']\n",
    "\n",
    "    slope_2, intercept_2, m_2, n_2, o_2 = linregress(x_2, y_2)\n",
    "    line_x_2 = np.arange(2000, 2051)\n",
    "    line_y_2 = slope_2 * line_x_2 + intercept_2\n",
    "    ax.plot(line_x_2, line_y_2)\n",
    "\n",
    "    # Add labels and title\n",
    "    ax.set_title('Rise in Sea Level')\n",
    "    ax.set_xlabel('Year')\n",
    "    ax.set_ylabel('Sea Level (inches)')\n",
    "    ax.set_xlim(xmin=1850, xmax=2075)\n",
    "\n",
    "    # Save plot and return data for testing (DO NOT MODIFY)\n",
    "    plt.savefig('sea_level_plot.png')\n",
    "    return plt.gca()\n"
   ]
  },
  {
   "cell_type": "code",
   "execution_count": null,
   "metadata": {},
   "outputs": [],
   "source": []
  },
  {
   "cell_type": "code",
   "execution_count": null,
   "metadata": {},
   "outputs": [],
   "source": []
  }
 ]
}