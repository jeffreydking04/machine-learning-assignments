{
 "cells": [
  {
   "cell_type": "markdown",
   "id": "photographic-personality",
   "metadata": {},
   "source": [
    "Linear Algebra Problem Set"
   ]
  },
  {
   "cell_type": "code",
   "execution_count": null,
   "id": "adult-flush",
   "metadata": {},
   "outputs": [],
   "source": []
  },
  {
   "cell_type": "markdown",
   "id": "fluid-harris",
   "metadata": {},
   "source": [
    "Problem 1:\n",
    "\n",
    "I ran the below code to get a random set of $ \\mathbb{Z}^4 $ matrices limiting the output to 1 to 5, then I copied the result into variables in case the randomizer got run again.  I worked off that set."
   ]
  },
  {
   "cell_type": "code",
   "execution_count": 18,
   "id": "religious-teens",
   "metadata": {},
   "outputs": [
    {
     "data": {
      "text/plain": [
       "[matrix([[4, 1, 5, 4],\n",
       "         [5, 3, 3, 3],\n",
       "         [5, 3, 1, 5],\n",
       "         [5, 4, 2, 1]]),\n",
       " matrix([[4, 2, 4, 4],\n",
       "         [5, 4, 2, 2],\n",
       "         [1, 1, 2, 3],\n",
       "         [1, 1, 3, 2]])]"
      ]
     },
     "execution_count": 18,
     "metadata": {},
     "output_type": "execute_result"
    }
   ],
   "source": [
    "import numpy as np\n",
    "import numpy.matlib\n",
    "\n",
    "i4_matrices = []\n",
    "for x in range(2):\n",
    "    i4_matrices.append(np.matlib.mat(np.random.randint(1, 6, size=(4, 4))))\n",
    "\n",
    "i4_matrices"
   ]
  },
  {
   "cell_type": "code",
   "execution_count": 143,
   "id": "prostate-chapter",
   "metadata": {},
   "outputs": [],
   "source": [
    "matrix_x = np.matlib.mat([[4, 1, 5, 4],\n",
    "         [5, 3, 3, 3],\n",
    "         [5, 3, 1, 5],\n",
    "         [5, 4, 2, 1]])\n",
    "                  \n",
    "matrix_y = np.matlib.mat([[4, 2, 4, 4],\n",
    "         [5, 4, 2, 2],\n",
    "         [1, 1, 2, 3],\n",
    "         [1, 1, 3, 2]])"
   ]
  },
  {
   "cell_type": "code",
   "execution_count": 168,
   "id": "waiting-hierarchy",
   "metadata": {},
   "outputs": [
    {
     "name": "stdout",
     "output_type": "stream",
     "text": [
      "[[30. 21. 40. 41.]\n",
      " [41. 28. 41. 41.]\n",
      " [41. 28. 43. 39.]\n",
      " [43. 29. 35. 36.]]\n"
     ]
    }
   ],
   "source": [
    "def matrix_multiplication(x,y):\n",
    "    a_x = np.array(x)\n",
    "    a_y = np.array(y)\n",
    "    x_rows = len(a_x)\n",
    "    x_columns = len(a_x[0])\n",
    "    y_columns = len(a_y[0])\n",
    "    y_rows = len(a_y)\n",
    "    if y_rows != x_columns:\n",
    "        print('Invalid matrix sizes')\n",
    "        return\n",
    "    product = np.zeros((x_rows, y_columns))\n",
    "    for i in range(x_rows):\n",
    "        for j in range(y_columns):\n",
    "            total = 0\n",
    "            for k in range(y_rows):\n",
    "                total += a_x[i][k] * a_y[k][j]\n",
    "            product[i][j] = total\n",
    "    new_matrix = np.matlib.mat(product)\n",
    "    print(new_matrix)\n",
    "    \n",
    "matrix_multiplication(matrix_x, matrix_y)"
   ]
  },
  {
   "cell_type": "markdown",
   "id": "underlying-klein",
   "metadata": {},
   "source": [
    "\\begin{equation}\n",
    "\\begin{bmatrix}\n",
    "4 & 1 & 5 & 4 \\\\\n",
    "5 & 3 & 3 & 3 \\\\\n",
    "5 & 3 & 1 & 5 \\\\\n",
    "5 & 4 & 2 & 1\n",
    "\\end{bmatrix}\n",
    "\\begin{bmatrix}\n",
    "4 & 2 & 4 & 4 \\\\\n",
    "5 & 4 & 2 & 2 \\\\\n",
    "1 & 1 & 2 & 3 \\\\\n",
    "1 & 1 & 3 & 2\n",
    "\\end{bmatrix}\n",
    "\\end{equation}\n",
    "\n"
   ]
  },
  {
   "cell_type": "markdown",
   "id": "round-single",
   "metadata": {},
   "source": [
    "\\begin{equation}\n",
    "\\begin{bmatrix}\n",
    "4\\cdot4 + 1\\cdot5 + 5\\cdot1 + 4\\cdot1 & 4\\cdot2 + 1\\cdot4 + 5\\cdot1 + 4\\cdot1 & \n",
    "4\\cdot4 + 1\\cdot2 + 5\\cdot2 + 4\\cdot3 & 4\\cdot4 + 1\\cdot2 + 5\\cdot3 + 4\\cdot2 \\\\\n",
    "5\\cdot4 + 3\\cdot5 + 3\\cdot1 + 3\\cdot1 & 5\\cdot2 + 3\\cdot4 + 3\\cdot1 + 3\\cdot1 & \n",
    "5\\cdot4 + 3\\cdot2 + 3\\cdot2 + 3\\cdot3 & 5\\cdot4 + 3\\cdot2 + 3\\cdot3 + 3\\cdot2 \\\\\n",
    "5\\cdot4 + 3\\cdot5 + 1\\cdot1 + 5\\cdot1 & 5\\cdot2 + 3\\cdot4 + 1\\cdot1 + 5\\cdot1 &\n",
    "5\\cdot4 + 3\\cdot2 + 1\\cdot2 + 5\\cdot3 & 5\\cdot4 + 3\\cdot2 + 1\\cdot3 + 5\\cdot2 \\\\\n",
    "5\\cdot4 + 4\\cdot5 + 2\\cdot1 + 1\\cdot1 & 5\\cdot2 + 4\\cdot4 + 2\\cdot1 + 1\\cdot1 &\n",
    "5\\cdot4 + 4\\cdot2 + 2\\cdot2 + 1\\cdot3 & 5\\cdot4 + 4\\cdot2 + 2\\cdot3 + 1\\cdot2\n",
    "\\end{bmatrix}\n",
    "\\end{equation}"
   ]
  },
  {
   "cell_type": "markdown",
   "id": "recognized-agreement",
   "metadata": {},
   "source": [
    "\\begin{equation}\n",
    "\\begin{bmatrix}\n",
    "30 & 21 & 40 & 41 \\\\\n",
    "41 & 28 & 41 & 41 \\\\\n",
    "41 & 28 & 43 & 39 \\\\\n",
    "43 & 29 & 35 & 36 \n",
    "\\end{bmatrix}\n",
    "\\end{equation}"
   ]
  },
  {
   "cell_type": "code",
   "execution_count": 24,
   "id": "spiritual-acrobat",
   "metadata": {},
   "outputs": [
    {
     "name": "stdout",
     "output_type": "stream",
     "text": [
      "[[30 21 40 41]\n",
      " [41 28 41 41]\n",
      " [41 28 43 39]\n",
      " [43 29 35 36]]\n"
     ]
    }
   ],
   "source": [
    "print(matrix_x * matrix_y)"
   ]
  },
  {
   "cell_type": "code",
   "execution_count": null,
   "id": "violent-configuration",
   "metadata": {},
   "outputs": [],
   "source": []
  },
  {
   "cell_type": "markdown",
   "id": "artistic-great",
   "metadata": {},
   "source": [
    "Problem 2 Hadamard \n",
    "\n",
    "\\begin{equation}\n",
    "\\begin{bmatrix}\n",
    "4 & 1 & 5 & 4 \\\\\n",
    "5 & 3 & 3 & 3 \\\\\n",
    "5 & 3 & 1 & 5 \\\\\n",
    "5 & 4 & 2 & 1\n",
    "\\end{bmatrix}\n",
    "\\odot\n",
    "\\begin{bmatrix}\n",
    "4 & 2 & 4 & 4 \\\\\n",
    "5 & 4 & 2 & 2 \\\\\n",
    "1 & 1 & 2 & 3 \\\\\n",
    "1 & 1 & 3 & 2\n",
    "\\end{bmatrix}\n",
    "\\end{equation}"
   ]
  },
  {
   "cell_type": "markdown",
   "id": "ordered-banner",
   "metadata": {},
   "source": [
    "\\begin{equation}\n",
    "\\begin{bmatrix}\n",
    "4\\cdot4 & 1\\cdot2 & 5\\cdot4 & 4\\cdot4 \\\\\n",
    "5\\cdot5 & 3\\cdot4 & 3\\cdot2 & 3\\cdot2 \\\\\n",
    "5\\cdot1 & 3\\cdot1 & 1\\cdot2 & 5\\cdot3 \\\\\n",
    "5\\cdot1 & 4\\cdot1 & 2\\cdot3 & 1\\cdot2 \n",
    "\\end{bmatrix}\n",
    "\\end{equation}"
   ]
  },
  {
   "cell_type": "markdown",
   "id": "demanding-oakland",
   "metadata": {},
   "source": [
    "\\begin{equation}\n",
    "\\begin{bmatrix}\n",
    "16 & 2 & 20 & 16 \\\\\n",
    "25 & 12 & 6 & 6 \\\\\n",
    "5 & 3 & 2 & 15 \\\\\n",
    "5 & 4 & 6 & 2 \n",
    "\\end{bmatrix}\n",
    "\\end{equation}"
   ]
  },
  {
   "cell_type": "code",
   "execution_count": 133,
   "id": "adaptive-falls",
   "metadata": {},
   "outputs": [
    {
     "name": "stdout",
     "output_type": "stream",
     "text": [
      "[[16  2 20 16]\n",
      " [25 12  6  6]\n",
      " [ 5  3  2 15]\n",
      " [ 5  4  6  2]]\n"
     ]
    }
   ],
   "source": [
    "def hadamard(x, y):\n",
    "    a_x = np.array(x)\n",
    "    a_y = np.array(y)\n",
    "    if len(a_x) != len(a_y) or len(a_x[0]) != len(a_y[0]):\n",
    "        print('Invalid matrix sizes')\n",
    "        return\n",
    "    l_h = []\n",
    "    for i in range(len(a_y)):\n",
    "        l_h.append([])\n",
    "        for j in range(len(a_y[0])):\n",
    "            l_h[i].append(a_x[i][j] * a_y[i][j])\n",
    "    hadamard_matrix = np.matlib.mat(l_h)\n",
    "    print(hadamard_matrix)\n",
    "    \n",
    "hadamard(matrix_x, matrix_y)"
   ]
  },
  {
   "cell_type": "code",
   "execution_count": null,
   "id": "bridal-republican",
   "metadata": {},
   "outputs": [],
   "source": []
  },
  {
   "cell_type": "markdown",
   "id": "eligible-respect",
   "metadata": {},
   "source": [
    "Problem 2 Kronecker\n",
    "\n",
    "\\begin{equation}\n",
    "\\begin{bmatrix}\n",
    "4 & 1 & 5 & 4 \\\\\n",
    "5 & 3 & 3 & 3 \\\\\n",
    "5 & 3 & 1 & 5 \\\\\n",
    "5 & 4 & 2 & 1\n",
    "\\end{bmatrix}\n",
    "\\otimes\n",
    "\\begin{bmatrix}\n",
    "4 & 2 & 4 & 4 \\\\\n",
    "5 & 4 & 2 & 2 \\\\\n",
    "1 & 1 & 2 & 3 \\\\\n",
    "1 & 1 & 3 & 2\n",
    "\\end{bmatrix}\n",
    "\\end{equation}"
   ]
  },
  {
   "cell_type": "code",
   "execution_count": 134,
   "id": "searching-moldova",
   "metadata": {},
   "outputs": [
    {
     "name": "stdout",
     "output_type": "stream",
     "text": [
      "[[16.  8. 16. 16.  4.  2.  4.  4. 20. 10. 20. 20. 16.  8. 16. 16.]\n",
      " [20. 16.  8.  8.  5.  4.  2.  2. 25. 20. 10. 10. 20. 16.  8.  8.]\n",
      " [ 4.  4.  8. 12.  1.  1.  2.  3.  5.  5. 10. 15.  4.  4.  8. 12.]\n",
      " [ 4.  4. 12.  8.  1.  1.  3.  2.  5.  5. 15. 10.  4.  4. 12.  8.]\n",
      " [20. 10. 20. 20. 12.  6. 12. 12. 12.  6. 12. 12. 12.  6. 12. 12.]\n",
      " [25. 20. 10. 10. 15. 12.  6.  6. 15. 12.  6.  6. 15. 12.  6.  6.]\n",
      " [ 5.  5. 10. 15.  3.  3.  6.  9.  3.  3.  6.  9.  3.  3.  6.  9.]\n",
      " [ 5.  5. 15. 10.  3.  3.  9.  6.  3.  3.  9.  6.  3.  3.  9.  6.]\n",
      " [20. 10. 20. 20. 12.  6. 12. 12.  4.  2.  4.  4. 20. 10. 20. 20.]\n",
      " [25. 20. 10. 10. 15. 12.  6.  6.  5.  4.  2.  2. 25. 20. 10. 10.]\n",
      " [ 5.  5. 10. 15.  3.  3.  6.  9.  1.  1.  2.  3.  5.  5. 10. 15.]\n",
      " [ 5.  5. 15. 10.  3.  3.  9.  6.  1.  1.  3.  2.  5.  5. 15. 10.]\n",
      " [20. 10. 20. 20. 16.  8. 16. 16.  8.  4.  8.  8.  4.  2.  4.  4.]\n",
      " [25. 20. 10. 10. 20. 16.  8.  8. 10.  8.  4.  4.  5.  4.  2.  2.]\n",
      " [ 5.  5. 10. 15.  4.  4.  8. 12.  2.  2.  4.  6.  1.  1.  2.  3.]\n",
      " [ 5.  5. 15. 10.  4.  4. 12.  8.  2.  2.  6.  4.  1.  1.  3.  2.]]\n"
     ]
    }
   ],
   "source": [
    "def kronecker(x, y):\n",
    "    a_x = np.array(x)\n",
    "    a_y = np.array(y)\n",
    "    x_rows = len(a_x)\n",
    "    x_columns = len(a_x[0])\n",
    "    y_rows = len(a_y)\n",
    "    y_columns = len(a_y[0])\n",
    "    l_k = np.zeros((x_rows * y_rows, x_columns * y_columns))\n",
    "    for i in range(x_rows):\n",
    "        for j in range(y_rows):\n",
    "            for k in range(x_columns):\n",
    "                for l in range(y_columns):\n",
    "                    l_k[i*y_columns+j][y_columns*k+l] = a_x[i][k] * a_y[j][l]\n",
    "               \n",
    "    kronecker_matrix = np.matlib.mat(l_k)\n",
    "    print(kronecker_matrix)\n",
    "    \n",
    "kronecker(matrix_x, matrix_y)"
   ]
  },
  {
   "cell_type": "code",
   "execution_count": null,
   "id": "possible-representation",
   "metadata": {},
   "outputs": [],
   "source": []
  },
  {
   "cell_type": "code",
   "execution_count": 174,
   "id": "lesbian-warren",
   "metadata": {},
   "outputs": [],
   "source": [
    "x = np.matlib.mat([[1,-4,7],[-2,3,3]])"
   ]
  },
  {
   "cell_type": "code",
   "execution_count": 175,
   "id": "instructional-trailer",
   "metadata": {},
   "outputs": [],
   "source": [
    "y = np.matlib.mat([[8,-9,-6,5],[1,-3,-4,7],[2,8,-8,-3],[1,2,-5,-1]])"
   ]
  },
  {
   "cell_type": "code",
   "execution_count": 165,
   "id": "jewish-honduras",
   "metadata": {},
   "outputs": [],
   "source": [
    "r = np.matlib.mat([[8,-9,-6,5],[1,-3,-4,7],[2,8,-8,-3]])"
   ]
  },
  {
   "cell_type": "code",
   "execution_count": 137,
   "id": "divided-phrase",
   "metadata": {},
   "outputs": [
    {
     "name": "stdout",
     "output_type": "stream",
     "text": [
      "[[ 1 -4  7]\n",
      " [-2  3  3]]\n",
      "[[ 8 -9 -6  5]\n",
      " [ 1 -3 -4  7]\n",
      " [ 2  8 -8 -3]\n",
      " [ 1  2 -5 -1]]\n"
     ]
    }
   ],
   "source": [
    "print(x)\n",
    "print(y)"
   ]
  },
  {
   "cell_type": "code",
   "execution_count": 138,
   "id": "western-phenomenon",
   "metadata": {},
   "outputs": [
    {
     "name": "stdout",
     "output_type": "stream",
     "text": [
      "[[  8.  -9.  -6.   5. -32.  36.  24. -20.  56. -63. -42.  35.]\n",
      " [  1.  -3.  -4.   7.  -4.  12.  16. -28.   7. -21. -28.  49.]\n",
      " [  2.   8.  -8.  -3.  -8. -32.  32.  12.  14.  56. -56. -21.]\n",
      " [  1.   2.  -5.  -1.  -4.  -8.  20.   4.   7.  14. -35.  -7.]\n",
      " [-16.  18.  12. -10.  24. -27. -18.  15.  24. -27. -18.  15.]\n",
      " [ -2.   6.   8. -14.   3.  -9. -12.  21.   3.  -9. -12.  21.]\n",
      " [ -4. -16.  16.   6.   6.  24. -24.  -9.   6.  24. -24.  -9.]\n",
      " [ -2.  -4.  10.   2.   3.   6. -15.  -3.   3.   6. -15.  -3.]]\n"
     ]
    }
   ],
   "source": [
    "kronecker(x, y)"
   ]
  },
  {
   "cell_type": "code",
   "execution_count": 139,
   "id": "strong-shannon",
   "metadata": {},
   "outputs": [],
   "source": [
    "w = np.matlib.mat([[1,2],[3,4]])"
   ]
  },
  {
   "cell_type": "code",
   "execution_count": 140,
   "id": "rapid-track",
   "metadata": {},
   "outputs": [],
   "source": [
    "v = np.matlib.mat([[0,5],[6,7]])"
   ]
  },
  {
   "cell_type": "code",
   "execution_count": 141,
   "id": "german-discretion",
   "metadata": {},
   "outputs": [
    {
     "name": "stdout",
     "output_type": "stream",
     "text": [
      "[[ 0 10]\n",
      " [18 28]]\n"
     ]
    }
   ],
   "source": [
    "hadamard(w,v)"
   ]
  },
  {
   "cell_type": "code",
   "execution_count": 142,
   "id": "demanding-presentation",
   "metadata": {},
   "outputs": [
    {
     "name": "stdout",
     "output_type": "stream",
     "text": [
      "Invalid matrix sizes\n"
     ]
    }
   ],
   "source": [
    "hadamard(x,y)"
   ]
  },
  {
   "cell_type": "code",
   "execution_count": 169,
   "id": "interested-pulse",
   "metadata": {},
   "outputs": [
    {
     "name": "stdout",
     "output_type": "stream",
     "text": [
      "Invalid matrix sizes\n"
     ]
    }
   ],
   "source": [
    "matrix_multiplication(x,y)"
   ]
  },
  {
   "cell_type": "code",
   "execution_count": 170,
   "id": "convenient-indonesia",
   "metadata": {},
   "outputs": [
    {
     "name": "stdout",
     "output_type": "stream",
     "text": [
      "[[ 18.  59. -46. -44.]\n",
      " [ -7.  33. -24.   2.]]\n"
     ]
    }
   ],
   "source": [
    "matrix_multiplication(x,r)"
   ]
  },
  {
   "cell_type": "code",
   "execution_count": null,
   "id": "thorough-festival",
   "metadata": {},
   "outputs": [],
   "source": []
  },
  {
   "cell_type": "markdown",
   "id": "israeli-credit",
   "metadata": {},
   "source": [
    "Problem 2: SVD"
   ]
  },
  {
   "cell_type": "code",
   "execution_count": 171,
   "id": "ceramic-switch",
   "metadata": {},
   "outputs": [],
   "source": [
    "def determinant_r2(matrix):\n",
    "    arr = np.array(matrix)\n",
    "    return arr[0][0] * arr[1][1] - arr[0][1] * arr[1][0]\n",
    "            "
   ]
  },
  {
   "cell_type": "code",
   "execution_count": 176,
   "id": "awful-wrapping",
   "metadata": {},
   "outputs": [
    {
     "name": "stdout",
     "output_type": "stream",
     "text": [
      "2\n",
      "0\n"
     ]
    }
   ],
   "source": [
    "p = np.matlib.mat([[2,4],[1,3]])\n",
    "q = np.matlib.mat([[2,4],[3,6]])\n",
    "print(determinant_r2(p))\n",
    "print(determinant_r2(q))"
   ]
  },
  {
   "cell_type": "code",
   "execution_count": 190,
   "id": "close-journal",
   "metadata": {},
   "outputs": [],
   "source": [
    "def determinant_r3(matrix):\n",
    "    arr = np.array(matrix)\n",
    "    total = 0\n",
    "    for x in range(3):\n",
    "        i = 0\n",
    "        if x == 0:\n",
    "            i = 1\n",
    "        j = 2\n",
    "        if x == 2:\n",
    "            j = 1\n",
    "        total += ((-1) ** x) * arr[0][x] * determinant_r2(np.matlib.matrix([[arr[1][i],arr[1][j]],[arr[2][i],arr[2][j]]]))\n",
    "    return total   \n",
    "        "
   ]
  },
  {
   "cell_type": "code",
   "execution_count": 191,
   "id": "private-embassy",
   "metadata": {},
   "outputs": [
    {
     "name": "stdout",
     "output_type": "stream",
     "text": [
      "-29\n"
     ]
    }
   ],
   "source": [
    "z = np.matlib.mat([[1,2,-1],[5,3,4],[-2,0,1]])\n",
    "print(determinant_r3(z))"
   ]
  },
  {
   "cell_type": "code",
   "execution_count": 196,
   "id": "connected-ballot",
   "metadata": {},
   "outputs": [],
   "source": [
    "def determinant_r4(matrix):\n",
    "    arr = np.array(matrix)\n",
    "    total = 0\n",
    "    for x in range(4):\n",
    "        i = 0\n",
    "        if x == 0:\n",
    "            i = 1\n",
    "        j = 2\n",
    "        if x > 1:\n",
    "            j = 1\n",
    "        k = 3\n",
    "        if x == 3:\n",
    "            k = 2\n",
    "        matrix_r3 = np.matlib.mat([[arr[1][i],arr[1][j],arr[1][k]],[arr[2][i],arr[2][j],arr[2][k]],[arr[3][i],arr[3][j],arr[3][k]]])\n",
    "        total += ((-1) ** x) * arr[0][x] * determinant_r3(matrix_r3)\n",
    "    return total"
   ]
  },
  {
   "cell_type": "code",
   "execution_count": 198,
   "id": "victorian-pillow",
   "metadata": {},
   "outputs": [
    {
     "name": "stdout",
     "output_type": "stream",
     "text": [
      "3\n"
     ]
    }
   ],
   "source": [
    "c = np.matlib.mat([[1,2,-1,1],[-1,0,2,-2],[3,-1,1,1],[2,0,-1,2]])\n",
    "print(determinant_r4(c))"
   ]
  },
  {
   "cell_type": "code",
   "execution_count": 202,
   "id": "becoming-ballet",
   "metadata": {},
   "outputs": [
    {
     "data": {
      "text/plain": [
       "(array([-4.4408921e-16,  2.0000000e+00,  3.0000000e+00]),\n",
       " matrix([[ 6.63989126e-17,  5.34522484e-01,  4.47213595e-01],\n",
       "         [ 7.07106781e-01,  8.01783726e-01,  8.94427191e-01],\n",
       "         [-7.07106781e-01, -2.67261242e-01,  4.29987528e-16]]))"
      ]
     },
     "execution_count": 202,
     "metadata": {},
     "output_type": "execute_result"
    }
   ],
   "source": [
    "import numpy.linalg\n",
    "\n",
    "d = np.matlib.mat([[1,1,1],[0,3,3],[-2,1,1]])\n",
    "np.linalg.eig(d)"
   ]
  },
  {
   "cell_type": "code",
   "execution_count": 230,
   "id": "opponent-korean",
   "metadata": {},
   "outputs": [
    {
     "name": "stdout",
     "output_type": "stream",
     "text": [
      "[0. 0.]\n",
      "u: [[-0.9145143  -0.40455358]\n",
      " [ 0.40455358 -0.9145143 ]]\n",
      "e: [[0.36596619 5.4649857 ]]\n",
      "v: [[-0.81741556 -0.57604844]\n",
      " [ 0.57604844 -0.81741556]]\n"
     ]
    }
   ],
   "source": [
    "def svd(matrix):\n",
    "    matrix_transpose = np.matrix.transpose(matrix)\n",
    "    mmt = matrix * matrix_transpose\n",
    "    mmt_values, mmt_vectors = np.linalg.eig(mmt)\n",
    "    mtm = matrix_transpose * matrix\n",
    "    mtm_values, mtm_vectors = np.linalg.eig(mtm)\n",
    "    m_len = len(matrix)\n",
    "    e = np.zeros(m_len)\n",
    "    print(e)\n",
    "    for x in range(m_len):\n",
    "        e[x] = np.sqrt(mtm_values[x])\n",
    "    return mmt_vectors, np.matlib.mat(e), mtm_vectors\n",
    "    \n",
    "    \n",
    "u, e, v = svd(w)\n",
    "print(f'u: {u}')\n",
    "print(f'e: {e}')\n",
    "print(f'v: {v}')"
   ]
  },
  {
   "cell_type": "code",
   "execution_count": 219,
   "id": "corporate-siemens",
   "metadata": {},
   "outputs": [
    {
     "name": "stdout",
     "output_type": "stream",
     "text": [
      "(matrix([[-0.40455358, -0.9145143 ],\n",
      "        [-0.9145143 ,  0.40455358]]), array([5.4649857 , 0.36596619]), matrix([[-0.57604844, -0.81741556],\n",
      "        [ 0.81741556, -0.57604844]]))\n"
     ]
    }
   ],
   "source": [
    "print(np.linalg.svd(w))"
   ]
  },
  {
   "cell_type": "code",
   "execution_count": null,
   "id": "serial-while",
   "metadata": {},
   "outputs": [],
   "source": [
    "I am a little crispy at this "
   ]
  }
 ],
 "metadata": {
  "kernelspec": {
   "display_name": "Python 3",
   "language": "python",
   "name": "python3"
  },
  "language_info": {
   "codemirror_mode": {
    "name": "ipython",
    "version": 3
   },
   "file_extension": ".py",
   "mimetype": "text/x-python",
   "name": "python",
   "nbconvert_exporter": "python",
   "pygments_lexer": "ipython3",
   "version": "3.8.5"
  }
 },
 "nbformat": 4,
 "nbformat_minor": 5
}
