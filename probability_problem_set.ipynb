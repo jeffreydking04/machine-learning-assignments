{
 "cells": [
  {
   "cell_type": "markdown",
   "id": "elementary-senior",
   "metadata": {},
   "source": [
    "# Problem 1\n",
    "\n",
    "postive test = +"
   ]
  },
  {
   "cell_type": "markdown",
   "id": "capital-intake",
   "metadata": {},
   "source": [
    "has disease = s"
   ]
  },
  {
   "cell_type": "markdown",
   "id": "unusual-masters",
   "metadata": {},
   "source": [
    "healthy = h"
   ]
  },
  {
   "cell_type": "markdown",
   "id": "negative-relative",
   "metadata": {},
   "source": [
    "P(+|s) = .95"
   ]
  },
  {
   "cell_type": "markdown",
   "id": "eleven-rescue",
   "metadata": {},
   "source": [
    "P(+|h) = .05"
   ]
  },
  {
   "cell_type": "markdown",
   "id": "renewable-honor",
   "metadata": {},
   "source": [
    "P(s) = .01"
   ]
  },
  {
   "cell_type": "markdown",
   "id": "adjacent-absolute",
   "metadata": {},
   "source": [
    "P(h) = .99"
   ]
  },
  {
   "cell_type": "markdown",
   "id": "environmental-louisville",
   "metadata": {},
   "source": [
    "P(+) = P(s) * P(+|s) + P(h) * P(+|h) = .059"
   ]
  },
  {
   "cell_type": "markdown",
   "id": "loving-figure",
   "metadata": {},
   "source": [
    "P(s|+) = $ \\frac{P(+|s) + P(s)}{P(+)} = \\frac{.95 * .01}{.059} \\approx .161 $"
   ]
  },
  {
   "cell_type": "markdown",
   "id": "pretty-bhutan",
   "metadata": {},
   "source": [
    "# Problem 2"
   ]
  },
  {
   "cell_type": "code",
   "execution_count": 12,
   "id": "compliant-demographic",
   "metadata": {},
   "outputs": [
    {
     "name": "stdout",
     "output_type": "stream",
     "text": [
      "average model 1: 0.931\n",
      "average model 2: 0.916\n",
      "variance model 1: 0.00014899999999999901\n",
      "variance model 2: 0.00032399999999999964\n",
      "std dev model 1: 0.012206555615733663\n",
      "std dev model 2: 0.017999999999999988\n",
      "Ttest_indResult(statistic=2.0691022044226677, pvalue=0.053207100179829776)\n"
     ]
    }
   ],
   "source": [
    "import numpy as np\n",
    "from scipy import stats\n",
    "\n",
    "a = [.92,.93,.94,.95,.92,.92,.92,.95,.94,.92]\n",
    "b = [.91,.90,.93,.90,.91,.90,.93,.96,.91,.91]\n",
    "\n",
    "print(f'average model 1: {np.average(a)}')\n",
    "print(f'average model 2: {np.average(b)}')\n",
    "print(f'variance model 1: {np.var(a)}')\n",
    "print(f'variance model 2: {np.var(b)}')\n",
    "print(f'std dev model 1: {np.std(a)}')\n",
    "print(f'std dev model 2: {np.std(b)}')\n",
    "\n",
    "print(stats.ttest_ind(a,b))"
   ]
  },
  {
   "cell_type": "markdown",
   "id": "designing-witch",
   "metadata": {},
   "source": [
    "At .05, do not reject the null hypothesis.  Neither set is demonstrably better than the other.  "
   ]
  },
  {
   "cell_type": "markdown",
   "id": "transparent-buddy",
   "metadata": {},
   "source": [
    "# Problem 3"
   ]
  },
  {
   "cell_type": "code",
   "execution_count": 15,
   "id": "acknowledged-stage",
   "metadata": {},
   "outputs": [
    {
     "name": "stdout",
     "output_type": "stream",
     "text": [
      "(7.761907679738562, 0.005335957229654973, 1, array([[102.85714286,  97.14285714],\n",
      "       [257.14285714, 242.85714286]]))\n"
     ]
    }
   ],
   "source": [
    "conversion = np.array([[120,80], [240,260]])\n",
    "\n",
    "print(stats.chi2_contingency(conversion))"
   ]
  },
  {
   "cell_type": "code",
   "execution_count": 34,
   "id": "involved-alexander",
   "metadata": {},
   "outputs": [
    {
     "name": "stdout",
     "output_type": "stream",
     "text": [
      "z-score: 1.026050358145676\n",
      "P: 0.8475660761133731\n"
     ]
    }
   ],
   "source": [
    "def proportionality(a,b,c,d):\n",
    "    p1 = a / b\n",
    "    p2 = c / d\n",
    "    p = (a + c)/(b + d)\n",
    "    q = 1 - p\n",
    "    pq = p * q\n",
    "    w = 1/b + 1/d\n",
    "    wpq = pq * w\n",
    "    z = (p1 - p2)/np.sqrt(wpq)\n",
    "    pval = stats.norm.cdf(z)\n",
    "    print(f'z-score: {z}')\n",
    "    print(f'P: {pval}')\n",
    "    \n",
    "proportionality(6,50,7,100)"
   ]
  },
  {
   "cell_type": "code",
   "execution_count": 35,
   "id": "personalized-component",
   "metadata": {},
   "outputs": [
    {
     "name": "stdout",
     "output_type": "stream",
     "text": [
      "z-score: 1.026050358145676\n",
      "pval: 0.8475660761133731\n"
     ]
    }
   ],
   "source": [
    "from statsmodels.stats.proportion import proportions_ztest\n",
    "\n",
    "stat, pval = proportions_ztest([6, 7], [50, 100], alternative='smaller')\n",
    "print(f'z-score: {stat}')\n",
    "print(f'pval: {pval}')"
   ]
  },
  {
   "cell_type": "markdown",
   "id": "defensive-creation",
   "metadata": {},
   "source": [
    "Keep the null hypothesis.  The results are not significantly significant at the .05 level."
   ]
  },
  {
   "cell_type": "markdown",
   "id": "political-intensity",
   "metadata": {},
   "source": [
    "# Problem 4"
   ]
  },
  {
   "cell_type": "markdown",
   "id": "cosmetic-ecology",
   "metadata": {},
   "source": [
    "One of the ways we can demonstrate that it is better to switch is to list the possible results:\n",
    "\n",
    "Assume the prize is behind door 3:\n",
    "\n",
    "If the player initially chooses door 1, the host opens door 2.  The player switches and wins. $ \\frac{1}{3} $ chance to win.\n",
    "\n",
    "If the player initially chooses door 2, the host opens door 1.  The player switches and wins.  $ \\frac{1}{3} $ chance to win.\n",
    "\n",
    "If the player initially chooses door 3 and then switches, then the player loses.  $ \\frac{1}{3} $ chance to lose.\n",
    "\n",
    "By symmetry, it is clear that regardless of where the prize is, switching gives the player a $ \\frac{2}{3} $ chance to win."
   ]
  },
  {
   "cell_type": "markdown",
   "id": "alpine-terry",
   "metadata": {},
   "source": [
    "Another way to think about it really just rephrases the above, but is a slightly different approach.\n",
    "\n",
    "Think about what happens when the player initially chooses the prize door.  Then by swiching, the player will lose.  But whenever the player initially chooses a door that doesn't hide the prize, the host then opens the other incorrect door, leaving only the door with the prize.  Switching always wins when the player chooses a wrong door initially. Because there are 2 wrong doors and 1 right one, switching always gives the player a $ \\frac{2}{3} $ chance."
   ]
  },
  {
   "cell_type": "markdown",
   "id": "administrative-focus",
   "metadata": {},
   "source": [
    "Another way:"
   ]
  },
  {
   "cell_type": "markdown",
   "id": "handed-gazette",
   "metadata": {},
   "source": [
    "Let us assume that the player has chosen Door 3 and the host has revealed Door 2 to be a loser."
   ]
  },
  {
   "cell_type": "markdown",
   "id": "grateful-degree",
   "metadata": {},
   "source": [
    "$ P(E_2) = $ the probability that the host would open door 2."
   ]
  },
  {
   "cell_type": "markdown",
   "id": "printable-dinner",
   "metadata": {},
   "source": [
    "$ P(D_i) = $ the probablity the prize is behind door i where $ i \\in \\{1,2,3\\} $"
   ]
  },
  {
   "cell_type": "markdown",
   "id": "announced-stuff",
   "metadata": {},
   "source": [
    "Given the player picked door 3: $ P(E_2) = P(E_2|D_1) \\cdot P(D_1) + P(E_2|D_2) \\cdot P(D_2) + P(E_2|D_3) \\cdot P(D_3) = 1 \\cdot \\frac{1}{3} + 0 \\cdot \\frac{1}{3} + \\frac{1}{2} \\cdot \\frac{1}{3} = \\frac{1}{2}$"
   ]
  },
  {
   "cell_type": "markdown",
   "id": "medical-brass",
   "metadata": {},
   "source": [
    "$ P(D_1|E_2) = \\frac{P(E_2|D_1) \\cdot P(D_1)}{P(E_2)} = \\frac{1 \\cdot \\frac{1}{3}}{\\frac{1}{2}} = \\frac{2}{3} $"
   ]
  },
  {
   "cell_type": "markdown",
   "id": "marked-interpretation",
   "metadata": {},
   "source": [
    "$ P(D_3|E_2) = \\frac{P(E_2|D_3) \\cdot P(D_3)}{P(E_2)} = \\frac{\\frac{1}{2} \\cdot \\frac{1}{3}}{\\frac{1}{2}} = \\frac{1}\n",
    "{3} $"
   ]
  },
  {
   "cell_type": "code",
   "execution_count": 54,
   "id": "further-product",
   "metadata": {},
   "outputs": [
    {
     "name": "stdout",
     "output_type": "stream",
     "text": [
      "Trials: 1\n",
      "Stay: 100.0\n",
      "Switch: 0.0\n",
      "\n",
      "Trials: 10\n",
      "Stay: 10.0\n",
      "Switch: 90.0\n",
      "\n",
      "Trials: 100\n",
      "Stay: 40.0\n",
      "Switch: 60.0\n",
      "\n",
      "Trials: 1000\n",
      "Stay: 32.2\n",
      "Switch: 67.8\n",
      "\n",
      "Trials: 10000\n",
      "Stay: 33.57\n",
      "Switch: 66.43\n",
      "\n",
      "Trials: 100000\n",
      "Stay: 33.436\n",
      "Switch: 66.564\n",
      "\n",
      "Trials: 1000000\n",
      "Stay: 33.3421\n",
      "Switch: 66.6579\n",
      "\n"
     ]
    }
   ],
   "source": [
    "def run_trials(trials):\n",
    "    stay = 0\n",
    "    switch = 0\n",
    "\n",
    "    for i in range(trials):\n",
    "        prize = np.trunc(np.random.rand(1) * 3).astype(int)[0] + 1\n",
    "        pick = np.trunc(np.random.rand(1) * 3).astype(int)[0] + 1\n",
    "        temp = np.trunc(np.random.rand(1) * 2).astype(int)[0]\n",
    "        door_shown = 1\n",
    "        if prize == pick:\n",
    "            temp = np.trunc(np.random.rand(1) * 2).astype(int)[0]\n",
    "            if pick == 1:\n",
    "                door_shown = temp + 2\n",
    "\n",
    "            elif pick == 2 and temp == 1:\n",
    "                door_shown = 3\n",
    "            else:\n",
    "                doorshown = temp + 1\n",
    "        else:\n",
    "            if pick == 1:\n",
    "                if prize == 2:\n",
    "                    door_shown = 3\n",
    "                else:\n",
    "                    door_shown = 2\n",
    "            elif pick == 2:\n",
    "                if prize == 1:\n",
    "                    door_shown = 3\n",
    "            elif prize == 1:\n",
    "                door_shown = 2\n",
    "\n",
    "        switch_door = 1\n",
    "        if pick == 1 or door_shown == 1:\n",
    "            switch_door = 2\n",
    "            if pick == 2 or door_shown == 2:\n",
    "                switch_door = 3\n",
    "\n",
    "        if switch_door == prize:\n",
    "            switch += 1\n",
    "\n",
    "        if pick == prize:\n",
    "            stay += 1\n",
    "            \n",
    "    print(f'Trials: {trials}')\n",
    "    print(f'Stay: {100 * stay / trials}')\n",
    "    print(f'Switch: {100 * switch / trials}')\n",
    "    print()\n",
    "    \n",
    "for x in range(7):\n",
    "    run_trials(10 ** x)"
   ]
  },
  {
   "cell_type": "code",
   "execution_count": null,
   "id": "integrated-killing",
   "metadata": {},
   "outputs": [],
   "source": []
  }
 ],
 "metadata": {
  "kernelspec": {
   "display_name": "Python 3",
   "language": "python",
   "name": "python3"
  },
  "language_info": {
   "codemirror_mode": {
    "name": "ipython",
    "version": 3
   },
   "file_extension": ".py",
   "mimetype": "text/x-python",
   "name": "python",
   "nbconvert_exporter": "python",
   "pygments_lexer": "ipython3",
   "version": "3.8.5"
  }
 },
 "nbformat": 4,
 "nbformat_minor": 5
}
