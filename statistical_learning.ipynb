{
 "cells": [
  {
   "cell_type": "markdown",
   "id": "mounted-soccer",
   "metadata": {},
   "source": [
    "# Problem A Spam Emails"
   ]
  },
  {
   "cell_type": "markdown",
   "id": "colonial-intake",
   "metadata": {},
   "source": [
    "Supervised learning on a data set of known emails with label spam/not spam.  "
   ]
  },
  {
   "cell_type": "markdown",
   "id": "exotic-terry",
   "metadata": {},
   "source": [
    "# Problem B Move Times"
   ]
  },
  {
   "cell_type": "markdown",
   "id": "speaking-windows",
   "metadata": {},
   "source": [
    "Supervised learning on a data set of known moves with label time to complete."
   ]
  },
  {
   "cell_type": "markdown",
   "id": "involved-warner",
   "metadata": {},
   "source": [
    "# Problem C Optimal Price"
   ]
  },
  {
   "cell_type": "markdown",
   "id": "threatened-rates",
   "metadata": {},
   "source": [
    "I get from the lecture slides that this is reinforcement learning but I am not sure how this works."
   ]
  },
  {
   "cell_type": "markdown",
   "id": "emotional-thanksgiving",
   "metadata": {},
   "source": [
    "# Problem D Customer Segmentation"
   ]
  },
  {
   "cell_type": "markdown",
   "id": "social-australia",
   "metadata": {},
   "source": [
    "Unsupervised learning where the goal is to find commonalities in the customer data.  As opposed to supervised learning where there is a correct answer, here we just want to be able to group the data in unexpected ways."
   ]
  },
  {
   "cell_type": "markdown",
   "id": "focal-cocktail",
   "metadata": {},
   "source": [
    "# Problem E Shortest Route"
   ]
  },
  {
   "cell_type": "markdown",
   "id": "roman-classroom",
   "metadata": {},
   "source": [
    "This is not a problem that lends itself to ML.  Shortest route is well suited to established analytical methods.  Though I do have to wonder if the actual time to travel those routes might not be ammenable to ML methods.  "
   ]
  },
  {
   "cell_type": "code",
   "execution_count": null,
   "id": "median-helping",
   "metadata": {},
   "outputs": [],
   "source": []
  }
 ],
 "metadata": {
  "kernelspec": {
   "display_name": "Python 3",
   "language": "python",
   "name": "python3"
  },
  "language_info": {
   "codemirror_mode": {
    "name": "ipython",
    "version": 3
   },
   "file_extension": ".py",
   "mimetype": "text/x-python",
   "name": "python",
   "nbconvert_exporter": "python",
   "pygments_lexer": "ipython3",
   "version": "3.8.5"
  }
 },
 "nbformat": 4,
 "nbformat_minor": 5
}
