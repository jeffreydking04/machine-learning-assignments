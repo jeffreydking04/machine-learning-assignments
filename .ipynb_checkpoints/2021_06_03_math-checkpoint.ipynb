{
 "cells": [
  {
   "cell_type": "markdown",
   "id": "humanitarian-sullivan",
   "metadata": {},
   "source": [
    "Linear Algebra Problem Set"
   ]
  },
  {
   "cell_type": "code",
   "execution_count": null,
   "id": "running-butter",
   "metadata": {},
   "outputs": [],
   "source": []
  },
  {
   "cell_type": "markdown",
   "id": "female-outreach",
   "metadata": {},
   "source": [
    "Problem 1:\n",
    "\n",
    "I ran the below code to get a random set of $ \\mathbb{Z}^4 $ matrices limiting the output to 1 to 5, then I copied the result into variables in case the randomizer got run again.  I worked off that set."
   ]
  },
  {
   "cell_type": "code",
   "execution_count": 18,
   "id": "endangered-constitutional",
   "metadata": {},
   "outputs": [
    {
     "data": {
      "text/plain": [
       "[matrix([[4, 1, 5, 4],\n",
       "         [5, 3, 3, 3],\n",
       "         [5, 3, 1, 5],\n",
       "         [5, 4, 2, 1]]),\n",
       " matrix([[4, 2, 4, 4],\n",
       "         [5, 4, 2, 2],\n",
       "         [1, 1, 2, 3],\n",
       "         [1, 1, 3, 2]])]"
      ]
     },
     "execution_count": 18,
     "metadata": {},
     "output_type": "execute_result"
    }
   ],
   "source": [
    "import numpy as np\n",
    "import numpy.matlib\n",
    "\n",
    "i4_matrices = []\n",
    "for x in range(2):\n",
    "    i4_matrices.append(np.matlib.mat(np.random.randint(1, 6, size=(4, 4))))\n",
    "\n",
    "i4_matrices"
   ]
  },
  {
   "cell_type": "code",
   "execution_count": 23,
   "id": "blank-causing",
   "metadata": {},
   "outputs": [
    {
     "name": "stdout",
     "output_type": "stream",
     "text": [
      "[[4 1 5 4]\n",
      " [5 3 3 3]\n",
      " [5 3 1 5]\n",
      " [5 4 2 1]]\n",
      "[[4 2 4 4]\n",
      " [5 4 2 2]\n",
      " [1 1 2 3]\n",
      " [1 1 3 2]]\n"
     ]
    }
   ],
   "source": [
    "matrix_x = np.matlib.mat([[4, 1, 5, 4],\n",
    "         [5, 3, 3, 3],\n",
    "         [5, 3, 1, 5],\n",
    "         [5, 4, 2, 1]])\n",
    "print(matrix_x)\n",
    "                  \n",
    "matrix_y = np.matlib.mat([[4, 2, 4, 4],\n",
    "         [5, 4, 2, 2],\n",
    "         [1, 1, 2, 3],\n",
    "         [1, 1, 3, 2]])\n",
    "print(matrix_y)"
   ]
  },
  {
   "cell_type": "markdown",
   "id": "thermal-monitoring",
   "metadata": {},
   "source": [
    "\\begin{equation}\n",
    "\\begin{bmatrix}\n",
    "4 & 1 & 5 & 4 \\\\\n",
    "5 & 3 & 3 & 3 \\\\\n",
    "5 & 3 & 1 & 5 \\\\\n",
    "5 & 4 & 2 & 1\n",
    "\\end{bmatrix}\n",
    "\\begin{bmatrix}\n",
    "4 & 2 & 4 & 4 \\\\\n",
    "5 & 4 & 2 & 2 \\\\\n",
    "1 & 1 & 2 & 3 \\\\\n",
    "1 & 1 & 3 & 2\n",
    "\\end{bmatrix}\n",
    "\\end{equation}\n",
    "\n"
   ]
  },
  {
   "cell_type": "markdown",
   "id": "adjacent-slovenia",
   "metadata": {},
   "source": [
    "\\begin{equation}\n",
    "\\begin{bmatrix}\n",
    "4\\cdot4 + 1\\cdot5 + 5\\cdot1 + 4\\cdot1 & 4\\cdot2 + 1\\cdot4 + 5\\cdot1 + 4\\cdot1 & \n",
    "4\\cdot4 + 1\\cdot2 + 5\\cdot2 + 4\\cdot3 & 4\\cdot4 + 1\\cdot2 + 5\\cdot3 + 4\\cdot2 \\\\\n",
    "5\\cdot4 + 3\\cdot5 + 3\\cdot1 + 3\\cdot1 & 5\\cdot2 + 3\\cdot4 + 3\\cdot1 + 3\\cdot1 & \n",
    "5\\cdot4 + 3\\cdot2 + 3\\cdot2 + 3\\cdot3 & 5\\cdot4 + 3\\cdot2 + 3\\cdot3 + 3\\cdot2 \\\\\n",
    "5\\cdot4 + 3\\cdot5 + 1\\cdot1 + 5\\cdot1 & 5\\cdot2 + 3\\cdot4 + 1\\cdot1 + 5\\cdot1 &\n",
    "5\\cdot4 + 3\\cdot2 + 1\\cdot2 + 5\\cdot3 & 5\\cdot4 + 3\\cdot2 + 1\\cdot3 + 5\\cdot2 \\\\\n",
    "5\\cdot4 + 4\\cdot5 + 2\\cdot1 + 1\\cdot1 & 5\\cdot2 + 4\\cdot4 + 2\\cdot1 + 1\\cdot1 &\n",
    "5\\cdot4 + 4\\cdot2 + 2\\cdot2 + 1\\cdot3 & 5\\cdot4 + 4\\cdot2 + 2\\cdot3 + 1\\cdot2\n",
    "\\end{bmatrix}\n",
    "\\end{equation}"
   ]
  },
  {
   "cell_type": "markdown",
   "id": "ruled-instrumentation",
   "metadata": {},
   "source": [
    "\\begin{equation}\n",
    "\\begin{bmatrix}\n",
    "30 & 21 & 40 & 41 \\\\\n",
    "41 & 28 & 41 & 41 \\\\\n",
    "41 & 28 & 43 & 39 \\\\\n",
    "43 & 29 & 35 & 36 \n",
    "\\end{bmatrix}\n",
    "\\end{equation}"
   ]
  },
  {
   "cell_type": "code",
   "execution_count": 24,
   "id": "bronze-pulse",
   "metadata": {},
   "outputs": [
    {
     "name": "stdout",
     "output_type": "stream",
     "text": [
      "[[30 21 40 41]\n",
      " [41 28 41 41]\n",
      " [41 28 43 39]\n",
      " [43 29 35 36]]\n"
     ]
    }
   ],
   "source": [
    "print(matrix_x * matrix_y)"
   ]
  },
  {
   "cell_type": "code",
   "execution_count": null,
   "id": "loose-workshop",
   "metadata": {},
   "outputs": [],
   "source": []
  },
  {
   "cell_type": "markdown",
   "id": "blocked-mayor",
   "metadata": {},
   "source": [
    "Problem 2 Hadamard \n",
    "\n",
    "\\begin{equation}\n",
    "\\begin{bmatrix}\n",
    "4 & 1 & 5 & 4 \\\\\n",
    "5 & 3 & 3 & 3 \\\\\n",
    "5 & 3 & 1 & 5 \\\\\n",
    "5 & 4 & 2 & 1\n",
    "\\end{bmatrix}\n",
    "\\odot\n",
    "\\begin{bmatrix}\n",
    "4 & 2 & 4 & 4 \\\\\n",
    "5 & 4 & 2 & 2 \\\\\n",
    "1 & 1 & 2 & 3 \\\\\n",
    "1 & 1 & 3 & 2\n",
    "\\end{bmatrix}\n",
    "\\end{equation}"
   ]
  },
  {
   "cell_type": "markdown",
   "id": "brilliant-recovery",
   "metadata": {},
   "source": [
    "\\begin{equation}\n",
    "\\begin{bmatrix}\n",
    "4\\cdot4 & 1\\cdot2 & 5\\cdot4 & 4\\cdot4 \\\\\n",
    "5\\cdot5 & 3\\cdot4 & 3\\cdot2 & 3\\cdot2 \\\\\n",
    "5\\cdot1 & 3\\cdot1 & 1\\cdot2 & 5\\cdot3 \\\\\n",
    "5\\cdot1 & 4\\cdot1 & 2\\cdot3 & 1\\cdot2 \n",
    "\\end{bmatrix}\n",
    "\\end{equation}"
   ]
  },
  {
   "cell_type": "markdown",
   "id": "square-commissioner",
   "metadata": {},
   "source": [
    "\\begin{equation}\n",
    "\\begin{bmatrix}\n",
    "16 & 2 & 20 & 16 \\\\\n",
    "25 & 12 & 6 & 6 \\\\\n",
    "5 & 3 & 2 & 15 \\\\\n",
    "5 & 4 & 6 & 2 \n",
    "\\end{bmatrix}\n",
    "\\end{equation}"
   ]
  },
  {
   "cell_type": "code",
   "execution_count": 129,
   "id": "independent-reading",
   "metadata": {},
   "outputs": [
    {
     "name": "stdout",
     "output_type": "stream",
     "text": [
      "[[16  2 20 16]\n",
      " [25 12  6  6]\n",
      " [ 5  3  2 15]\n",
      " [ 5  4  6  2]]\n"
     ]
    }
   ],
   "source": [
    "def hadamard(x, y):\n",
    "    a_x = np.array(x)\n",
    "    a_y = np.array(y)\n",
    "    if len(a_x) != len(a_y) or len(a_x[0]) != len(a_y[0]):\n",
    "        print('Invalid matrix sizes')\n",
    "        return\n",
    "    l_h = []\n",
    "    for i in range(len(a_y)):\n",
    "        l_h.append([])\n",
    "        for j in range(len(a_y[0])):\n",
    "            l_h[i].append(a_x[i][j] * a_y[i][j])\n",
    "    hadamard_matrix = np.matlib.mat(l_h)\n",
    "    print(hadamard_matrix)\n",
    "    \n",
    "hadamard(matrix_x, matrix_y)"
   ]
  },
  {
   "cell_type": "code",
   "execution_count": null,
   "id": "marked-christopher",
   "metadata": {},
   "outputs": [],
   "source": []
  },
  {
   "cell_type": "markdown",
   "id": "atmospheric-tragedy",
   "metadata": {},
   "source": [
    "Problem 2 Kronecker\n",
    "\n",
    "\\begin{equation}\n",
    "\\begin{bmatrix}\n",
    "4 & 1 & 5 & 4 \\\\\n",
    "5 & 3 & 3 & 3 \\\\\n",
    "5 & 3 & 1 & 5 \\\\\n",
    "5 & 4 & 2 & 1\n",
    "\\end{bmatrix}\n",
    "\\otimes\n",
    "\\begin{bmatrix}\n",
    "4 & 2 & 4 & 4 \\\\\n",
    "5 & 4 & 2 & 2 \\\\\n",
    "1 & 1 & 2 & 3 \\\\\n",
    "1 & 1 & 3 & 2\n",
    "\\end{bmatrix}\n",
    "\\end{equation}"
   ]
  },
  {
   "cell_type": "code",
   "execution_count": 122,
   "id": "timely-magnet",
   "metadata": {},
   "outputs": [
    {
     "name": "stdout",
     "output_type": "stream",
     "text": [
      "[[16.  8. 16. 16.  4.  2.  4.  4. 20. 10. 20. 20. 16.  8. 16. 16.]\n",
      " [20. 16.  8.  8.  5.  4.  2.  2. 25. 20. 10. 10. 20. 16.  8.  8.]\n",
      " [ 4.  4.  8. 12.  1.  1.  2.  3.  5.  5. 10. 15.  4.  4.  8. 12.]\n",
      " [ 4.  4. 12.  8.  1.  1.  3.  2.  5.  5. 15. 10.  4.  4. 12.  8.]\n",
      " [20. 10. 20. 20. 12.  6. 12. 12. 12.  6. 12. 12. 12.  6. 12. 12.]\n",
      " [25. 20. 10. 10. 15. 12.  6.  6. 15. 12.  6.  6. 15. 12.  6.  6.]\n",
      " [ 5.  5. 10. 15.  3.  3.  6.  9.  3.  3.  6.  9.  3.  3.  6.  9.]\n",
      " [ 5.  5. 15. 10.  3.  3.  9.  6.  3.  3.  9.  6.  3.  3.  9.  6.]\n",
      " [20. 10. 20. 20. 12.  6. 12. 12.  4.  2.  4.  4. 20. 10. 20. 20.]\n",
      " [25. 20. 10. 10. 15. 12.  6.  6.  5.  4.  2.  2. 25. 20. 10. 10.]\n",
      " [ 5.  5. 10. 15.  3.  3.  6.  9.  1.  1.  2.  3.  5.  5. 10. 15.]\n",
      " [ 5.  5. 15. 10.  3.  3.  9.  6.  1.  1.  3.  2.  5.  5. 15. 10.]\n",
      " [20. 10. 20. 20. 16.  8. 16. 16.  8.  4.  8.  8.  4.  2.  4.  4.]\n",
      " [25. 20. 10. 10. 20. 16.  8.  8. 10.  8.  4.  4.  5.  4.  2.  2.]\n",
      " [ 5.  5. 10. 15.  4.  4.  8. 12.  2.  2.  4.  6.  1.  1.  2.  3.]\n",
      " [ 5.  5. 15. 10.  4.  4. 12.  8.  2.  2.  6.  4.  1.  1.  3.  2.]]\n"
     ]
    }
   ],
   "source": [
    "def kronecker(x, y):\n",
    "    a_x = np.array(x)\n",
    "    a_y = np.array(y)\n",
    "    x_rows = len(a_x)\n",
    "    x_columns = len(a_x[0])\n",
    "    y_rows = len(a_y)\n",
    "    y_columns = len(a_y[0])\n",
    "    l_k = np.zeros((x_rows * y_rows, x_columns * y_columns))\n",
    "    for i in range(x_rows):\n",
    "        for j in range(y_rows):\n",
    "            for k in range(x_columns):\n",
    "                for l in range(y_columns):\n",
    "                    l_k[i*y_columns+j][y_columns*k+l] = a_x[i][k] * a_y[j][l]\n",
    "               \n",
    "    kronecker_matrix = np.matlib.mat(l_k)\n",
    "    print(kronecker_matrix)\n",
    "    \n",
    "kronecker(matrix_x, matrix_y)"
   ]
  },
  {
   "cell_type": "markdown",
   "id": "vital-impact",
   "metadata": {},
   "source": []
  },
  {
   "cell_type": "code",
   "execution_count": 114,
   "id": "derived-default",
   "metadata": {},
   "outputs": [],
   "source": [
    "x = np.matlib.mat([[1,-4,7],[-2,3,3]])"
   ]
  },
  {
   "cell_type": "code",
   "execution_count": 115,
   "id": "perceived-techno",
   "metadata": {},
   "outputs": [],
   "source": [
    "y= np.matlib.mat([[8,-9,-6,5],[1,-3,-4,7],[2,8,-8,-3],[1,2,-5,-1]])"
   ]
  },
  {
   "cell_type": "code",
   "execution_count": 83,
   "id": "stuck-cancellation",
   "metadata": {},
   "outputs": [
    {
     "name": "stdout",
     "output_type": "stream",
     "text": [
      "[[ 1 -4  7]\n",
      " [-2  3  3]]\n",
      "[[8, -9, -6, 5], [1, -3, -4, 7], [2, 8, -8, -3], [1, 2, -5, -1]]\n"
     ]
    }
   ],
   "source": [
    "print(x)\n",
    "print(y)"
   ]
  },
  {
   "cell_type": "code",
   "execution_count": 130,
   "id": "intense-australia",
   "metadata": {},
   "outputs": [
    {
     "name": "stdout",
     "output_type": "stream",
     "text": [
      "[[  8.  -9.  -6.   5. -32.  36.  24. -20.  56. -63. -42.  35.]\n",
      " [  1.  -3.  -4.   7.  -4.  12.  16. -28.   7. -21. -28.  49.]\n",
      " [  2.   8.  -8.  -3.  -8. -32.  32.  12.  14.  56. -56. -21.]\n",
      " [  1.   2.  -5.  -1.  -4.  -8.  20.   4.   7.  14. -35.  -7.]\n",
      " [-16.  18.  12. -10.  24. -27. -18.  15.  24. -27. -18.  15.]\n",
      " [ -2.   6.   8. -14.   3.  -9. -12.  21.   3.  -9. -12.  21.]\n",
      " [ -4. -16.  16.   6.   6.  24. -24.  -9.   6.  24. -24.  -9.]\n",
      " [ -2.  -4.  10.   2.   3.   6. -15.  -3.   3.   6. -15.  -3.]]\n"
     ]
    }
   ],
   "source": [
    "kronecker(x, y)"
   ]
  },
  {
   "cell_type": "code",
   "execution_count": 118,
   "id": "front-landing",
   "metadata": {},
   "outputs": [],
   "source": [
    "w = np.matlib.mat([[1,2],[3,4]])"
   ]
  },
  {
   "cell_type": "code",
   "execution_count": 119,
   "id": "based-malpractice",
   "metadata": {},
   "outputs": [],
   "source": [
    "v = np.matlib.mat([[0,5],[6,7]])"
   ]
  },
  {
   "cell_type": "code",
   "execution_count": 131,
   "id": "biblical-feedback",
   "metadata": {},
   "outputs": [
    {
     "name": "stdout",
     "output_type": "stream",
     "text": [
      "[[ 0 10]\n",
      " [18 28]]\n"
     ]
    }
   ],
   "source": [
    "hadamard(w,v)"
   ]
  },
  {
   "cell_type": "code",
   "execution_count": 132,
   "id": "headed-joshua",
   "metadata": {},
   "outputs": [],
   "source": [
    "hadamard(x,y)"
   ]
  },
  {
   "cell_type": "code",
   "execution_count": null,
   "id": "stable-restriction",
   "metadata": {},
   "outputs": [],
   "source": []
  }
 ],
 "metadata": {
  "kernelspec": {
   "display_name": "Python 3",
   "language": "python",
   "name": "python3"
  },
  "language_info": {
   "codemirror_mode": {
    "name": "ipython",
    "version": 3
   },
   "file_extension": ".py",
   "mimetype": "text/x-python",
   "name": "python",
   "nbconvert_exporter": "python",
   "pygments_lexer": "ipython3",
   "version": "3.8.5"
  }
 },
 "nbformat": 4,
 "nbformat_minor": 5
}
