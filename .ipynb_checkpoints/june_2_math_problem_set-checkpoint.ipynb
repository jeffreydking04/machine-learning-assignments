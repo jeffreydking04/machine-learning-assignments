{
 "cells": [
  {
   "cell_type": "raw",
   "id": "measured-suicide",
   "metadata": {},
   "source": [
    "Problem 1: Simpon's Rule converges faster.\n",
    "\n",
    "Why?  Because instead of straight lines from endpoint to endpoint of each interval dividing the desired region, Simpson's Rule uses a parabola that more closely approximates the actual behavior of the function between endpoints."
   ]
  },
  {
   "cell_type": "code",
   "execution_count": 1,
   "id": "chicken-dylan",
   "metadata": {},
   "outputs": [],
   "source": [
    "import numpy as np\n",
    "\n",
    "def f(x): return np.sqrt(1 - x ** 2)\n",
    "def approx_fx(n):\n",
    "    delta_x = (1 - 0) / n\n",
    "    approx = 0\n",
    "    interval = np.linspace(0, 1, n+1)\n",
    "    for i in range(n+1):\n",
    "        if i == 0 or i == n+1:\n",
    "            approx += (delta_x / 2) * f(interval[i])\n",
    "        else:\n",
    "            approx += (delta_x / 2) * 2 * f(interval[i])\n",
    "    return approx"
   ]
  },
  {
   "cell_type": "code",
   "execution_count": 21,
   "id": "wicked-specialist",
   "metadata": {},
   "outputs": [],
   "source": [
    "def simpsons_approx(n):\n",
    "    delta_x = (1 - 0) / (3 * n)\n",
    "    approx = 0\n",
    "    interval = np.linspace(0, 1, n+1)\n",
    "    for i in range(n+1):\n",
    "#         print(interval[i]);\n",
    "        if i == 0 or i == n+1:\n",
    "            approx += (delta_x) * f(interval[i])\n",
    "        elif i % 2 == 0:\n",
    "            approx += (delta_x) * 2 * f(interval[i])\n",
    "        else:\n",
    "            approx += (delta_x) * 4 * f(interval[i])\n",
    "    return approx"
   ]
  },
  {
   "cell_type": "code",
   "execution_count": 29,
   "id": "bottom-lesbian",
   "metadata": {},
   "outputs": [
    {
     "data": {
      "text/plain": [
       "0.7853981633974483"
      ]
     },
     "execution_count": 29,
     "metadata": {},
     "output_type": "execute_result"
    }
   ],
   "source": [
    "actual = np.pi / 4\n",
    "actual"
   ]
  },
  {
   "cell_type": "code",
   "execution_count": 32,
   "id": "democratic-talent",
   "metadata": {},
   "outputs": [
    {
     "name": "stdout",
     "output_type": "stream",
     "text": [
      "1000\n",
      "Trap Approx: 0.785388866727757\n",
      "Error 9.29666969129439e-06\n",
      "Simp Approx: 0.7853945325534988\n",
      "Simp Error 9.29666969129439e-06\n",
      "Trap Error - Simp Error 5.665825741796304e-06\n",
      "2000\n",
      "Trap Approx: 0.7853948764779911\n",
      "Error 3.2869194571683025e-06\n",
      "Simp Approx: 0.7853968797280669\n",
      "Simp Error 3.2869194571683025e-06\n",
      "Trap Error - Simp Error 2.003250075821583e-06\n",
      "3000\n",
      "Trap Approx: 0.7853963742159739\n",
      "Error 1.7891814744208645e-06\n",
      "Simp Approx: 0.7853974646613885\n",
      "Simp Error 1.7891814744208645e-06\n",
      "Trap Error - Simp Error 1.0904454146309916e-06\n",
      "4000\n",
      "Trap Approx: 0.7853970012870272\n",
      "Error 1.1621104211156918e-06\n",
      "Simp Approx: 0.7853977095567038\n",
      "Simp Error 1.1621104211156918e-06\n",
      "Trap Error - Simp Error 7.082696766858021e-07\n",
      "5000\n",
      "Trap Approx: 0.7853973318576462\n",
      "Error 8.315398021263576e-07\n",
      "Simp Approx: 0.7853978386561483\n",
      "Simp Error 8.315398021263576e-07\n",
      "Trap Error - Simp Error 5.067985021645072e-07\n"
     ]
    }
   ],
   "source": [
    "for n in range(5):\n",
    "    print(f'{(n+1) * 1000}')\n",
    "    trap_approx =  approx_fx((n+1) * 1000)\n",
    "    trap_error = actual - trap_approx\n",
    "    simp_approx =  simpsons_approx((n+1) * 1000)\n",
    "    simp_error = actual - simp_approx\n",
    "    print(f'Trap Approx: {trap_approx}')\n",
    "    print(f'Error {trap_error}')\n",
    "    print(f'Simp Approx: {simp_approx}')\n",
    "    print(f'Simp Error {trap_error}')\n",
    "    print(f'Trap Error - Simp Error {trap_error - simp_error}')"
   ]
  },
  {
   "cell_type": "code",
   "execution_count": null,
   "id": "normal-glenn",
   "metadata": {},
   "outputs": [],
   "source": []
  }
 ],
 "metadata": {
  "kernelspec": {
   "display_name": "Python 3",
   "language": "python",
   "name": "python3"
  },
  "language_info": {
   "codemirror_mode": {
    "name": "ipython",
    "version": 3
   },
   "file_extension": ".py",
   "mimetype": "text/x-python",
   "name": "python",
   "nbconvert_exporter": "python",
   "pygments_lexer": "ipython3",
   "version": "3.8.5"
  }
 },
 "nbformat": 4,
 "nbformat_minor": 5
}
